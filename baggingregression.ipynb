{
 "cells": [
  {
   "cell_type": "code",
   "execution_count": null,
   "id": "aae67e03-a85f-4f34-8ae6-5fb1cd571651",
   "metadata": {},
   "outputs": [],
   "source": []
  }
 ],
 "metadata": {
  "kernelspec": {
   "display_name": "",
   "name": ""
  },
  "language_info": {
   "name": ""
  }
 },
 "nbformat": 4,
 "nbformat_minor": 5
}
